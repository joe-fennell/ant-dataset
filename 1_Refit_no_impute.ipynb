{
 "cells": [
  {
   "cell_type": "code",
   "execution_count": 89,
   "metadata": {},
   "outputs": [],
   "source": [
    "import pandas as pd\n",
    "import seaborn\n",
    "import matplotlib.pyplot as plt\n",
    "import statsmodels.api as sm\n",
    "import statsmodels.formula.api as smf\n",
    "seaborn.set_style('darkgrid')"
   ]
  },
  {
   "cell_type": "code",
   "execution_count": 90,
   "metadata": {},
   "outputs": [],
   "source": [
    "df = pd.read_csv('antdata.csv')\n",
    "cols = list(df.columns)\n",
    "cols[0] = 'Species'\n",
    "df.columns = cols"
   ]
  },
  {
   "cell_type": "markdown",
   "metadata": {},
   "source": [
    "## Re-analysis with only complete data"
   ]
  },
  {
   "cell_type": "code",
   "execution_count": 122,
   "metadata": {},
   "outputs": [
    {
     "data": {
      "image/png": "[encoded data removed]",
      "text/plain": [
       "<Figure size 576x576 with 4 Axes>"
      ]
     },
     "metadata": {},
     "output_type": "display_data"
    }
   ],
   "source": [
    "id_vars = ['ColonyStructure', 'DisturbanceSpecialist', 'ColonyFoundation']\n",
    "df_sc = df[~df.ColonyStructure.isna()].copy()\n",
    "\n",
    "f, ax = plt.subplots(nrows=2, ncols=2, figsize = (8,8))\n",
    "ax = ax.ravel()\n",
    "for i, idv in enumerate(id_vars):\n",
    "    df_sc[idv].hist(ax=ax[i])\n",
    "    ax[i].set_title(idv)\n",
    "    seaborn.despine()"
   ]
  },
  {
   "cell_type": "code",
   "execution_count": 124,
   "metadata": {},
   "outputs": [],
   "source": [
    "df_sc['Invasive'] = df_sc['InvasivenessStatus'] == 'Invasive'\n",
    "formula = 'Invasive ~ C({}) + C({}) + C({})'.format(*id_vars)"
   ]
  },
  {
   "cell_type": "code",
   "execution_count": 125,
   "metadata": {},
   "outputs": [
    {
     "data": {
      "text/plain": [
       "'Invasive ~ C(ColonyStructure) + C(DisturbanceSpecialist) + C(ColonyFoundation)'"
      ]
     },
     "execution_count": 125,
     "metadata": {},
     "output_type": "execute_result"
    }
   ],
   "source": [
    "formula"
   ]
  },
  {
   "cell_type": "code",
   "execution_count": 126,
   "metadata": {},
   "outputs": [
    {
     "data": {
      "text/html": [
       "<table class=\"simpletable\">\n",
       "<caption>Generalized Linear Model Regression Results</caption>\n",
       "<tr>\n",
       "  <th>Dep. Variable:</th>   <td>['Invasive[False]', 'Invasive[True]']</td> <th>  No. Observations:  </th>  <td>   195</td> \n",
       "</tr>\n",
       "<tr>\n",
       "  <th>Model:</th>                            <td>GLM</td>                  <th>  Df Residuals:      </th>  <td>   189</td> \n",
       "</tr>\n",
       "<tr>\n",
       "  <th>Model Family:</th>                  <td>Binomial</td>                <th>  Df Model:          </th>  <td>     5</td> \n",
       "</tr>\n",
       "<tr>\n",
       "  <th>Link Function:</th>                   <td>logit</td>                 <th>  Scale:             </th> <td>  1.0000</td>\n",
       "</tr>\n",
       "<tr>\n",
       "  <th>Method:</th>                          <td>IRLS</td>                  <th>  Log-Likelihood:    </th> <td> -21.344</td>\n",
       "</tr>\n",
       "<tr>\n",
       "  <th>Date:</th>                      <td>Wed, 21 Oct 2020</td>            <th>  Deviance:          </th> <td>  42.687</td>\n",
       "</tr>\n",
       "<tr>\n",
       "  <th>Time:</th>                          <td>15:17:14</td>                <th>  Pearson chi2:      </th>  <td>  538.</td> \n",
       "</tr>\n",
       "<tr>\n",
       "  <th>No. Iterations:</th>                    <td>8</td>                   <th>                     </th>     <td> </td>   \n",
       "</tr>\n",
       "<tr>\n",
       "  <th>Covariance Type:</th>               <td>nonrobust</td>               <th>                     </th>     <td> </td>   \n",
       "</tr>\n",
       "</table>\n",
       "<table class=\"simpletable\">\n",
       "<tr>\n",
       "                   <td></td>                      <th>coef</th>     <th>std err</th>      <th>z</th>      <th>P>|z|</th>  <th>[0.025</th>    <th>0.975]</th>  \n",
       "</tr>\n",
       "<tr>\n",
       "  <th>Intercept</th>                           <td>    3.9623</td> <td>    1.381</td> <td>    2.869</td> <td> 0.004</td> <td>    1.255</td> <td>    6.669</td>\n",
       "</tr>\n",
       "<tr>\n",
       "  <th>C(ColonyStructure)[T.Polydomous]</th>    <td>    0.5414</td> <td>    1.177</td> <td>    0.460</td> <td> 0.645</td> <td>   -1.765</td> <td>    2.848</td>\n",
       "</tr>\n",
       "<tr>\n",
       "  <th>C(ColonyStructure)[T.Supercolonial]</th> <td>   -2.6734</td> <td>    1.142</td> <td>   -2.340</td> <td> 0.019</td> <td>   -4.912</td> <td>   -0.435</td>\n",
       "</tr>\n",
       "<tr>\n",
       "  <th>C(DisturbanceSpecialist)[T.Yes]</th>     <td>   -2.9317</td> <td>    1.148</td> <td>   -2.553</td> <td> 0.011</td> <td>   -5.182</td> <td>   -0.681</td>\n",
       "</tr>\n",
       "<tr>\n",
       "  <th>C(ColonyFoundation)[T.Facultative]</th>  <td>    0.2149</td> <td>    0.941</td> <td>    0.228</td> <td> 0.819</td> <td>   -1.630</td> <td>    2.059</td>\n",
       "</tr>\n",
       "<tr>\n",
       "  <th>C(ColonyFoundation)[T.Independent]</th>  <td>    2.2669</td> <td>    1.357</td> <td>    1.671</td> <td> 0.095</td> <td>   -0.392</td> <td>    4.926</td>\n",
       "</tr>\n",
       "</table>"
      ],
      "text/plain": [
       "<class 'statsmodels.iolib.summary.Summary'>\n",
       "\"\"\"\n",
       "                           Generalized Linear Model Regression Results                           \n",
       "=================================================================================================\n",
       "Dep. Variable:     ['Invasive[False]', 'Invasive[True]']   No. Observations:                  195\n",
       "Model:                                               GLM   Df Residuals:                      189\n",
       "Model Family:                                   Binomial   Df Model:                            5\n",
       "Link Function:                                     logit   Scale:                          1.0000\n",
       "Method:                                             IRLS   Log-Likelihood:                -21.344\n",
       "Date:                                   Wed, 21 Oct 2020   Deviance:                       42.687\n",
       "Time:                                           15:17:14   Pearson chi2:                     538.\n",
       "No. Iterations:                                        8                                         \n",
       "Covariance Type:                               nonrobust                                         \n",
       "=======================================================================================================\n",
       "                                          coef    std err          z      P>|z|      [0.025      0.975]\n",
       "-------------------------------------------------------------------------------------------------------\n",
       "Intercept                               3.9623      1.381      2.869      0.004       1.255       6.669\n",
       "C(ColonyStructure)[T.Polydomous]        0.5414      1.177      0.460      0.645      -1.765       2.848\n",
       "C(ColonyStructure)[T.Supercolonial]    -2.6734      1.142     -2.340      0.019      -4.912      -0.435\n",
       "C(DisturbanceSpecialist)[T.Yes]        -2.9317      1.148     -2.553      0.011      -5.182      -0.681\n",
       "C(ColonyFoundation)[T.Facultative]      0.2149      0.941      0.228      0.819      -1.630       2.059\n",
       "C(ColonyFoundation)[T.Independent]      2.2669      1.357      1.671      0.095      -0.392       4.926\n",
       "=======================================================================================================\n",
       "\"\"\""
      ]
     },
     "execution_count": 126,
     "metadata": {},
     "output_type": "execute_result"
    }
   ],
   "source": [
    "glm_1 = smf.glm(formula, df_sc, family=sm.families.Binomial())\n",
    "res = glm_1.fit()\n",
    "res.summary()"
   ]
  }
 ],
 "metadata": {
  "kernelspec": {
   "display_name": "Python 3",
   "language": "python",
   "name": "python3"
  },
  "language_info": {
   "codemirror_mode": {
    "name": "ipython",
    "version": 3
   },
   "file_extension": ".py",
   "mimetype": "text/x-python",
   "name": "python",
   "nbconvert_exporter": "python",
   "pygments_lexer": "ipython3",
   "version": "3.7.7"
  }
 },
 "nbformat": 4,
 "nbformat_minor": 4
}
